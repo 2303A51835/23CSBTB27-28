{
  "nbformat": 4,
  "nbformat_minor": 0,
  "metadata": {
    "colab": {
      "provenance": [],
      "authorship_tag": "ABX9TyOrX9/rhMhIU8PmO9CcF8gZ",
      "include_colab_link": true
    },
    "kernelspec": {
      "name": "python3",
      "display_name": "Python 3"
    },
    "language_info": {
      "name": "python"
    }
  },
  "cells": [
    {
      "cell_type": "markdown",
      "metadata": {
        "id": "view-in-github",
        "colab_type": "text"
      },
      "source": [
        "<a href=\"https://colab.research.google.com/github/2303A51835/23CSBTB27-28/blob/main/Untitled4.ipynb\" target=\"_parent\"><img src=\"https://colab.research.google.com/assets/colab-badge.svg\" alt=\"Open In Colab\"/></a>"
      ]
    },
    {
      "cell_type": "markdown",
      "source": [
        "PART 1 IMPLEMENT BASIC DATA STRUCTURES USING NUMPY, PANDA"
      ],
      "metadata": {
        "id": "GWmMZ3E6QVCa"
      }
    },
    {
      "cell_type": "code",
      "execution_count": 1,
      "metadata": {
        "colab": {
          "base_uri": "https://localhost:8080/"
        },
        "id": "RJtEqJp8QQWs",
        "outputId": "99a49888-6197-4105-fe10-1ba5ef3caa88"
      },
      "outputs": [
        {
          "output_type": "stream",
          "name": "stdout",
          "text": [
            "<class 'list'>\n",
            "<class 'str'>\n",
            "<class 'float'>\n",
            "<class 'complex'>\n",
            "<class 'str'>\n",
            "\n",
            "List items:\n",
            "Geeks\n",
            "For\n",
            "Geeks\n"
          ]
        }
      ],
      "source": [
        "list=[\"Geeks\",\"For\",\"Geeks\"]\n",
        "list1=\"my first lab\"\n",
        "list2=4.3\n",
        "list3=2j+6\n",
        "list4='My first lab'\n",
        "print(type(list))\n",
        "print(type(list1))\n",
        "print(type(list2))\n",
        "print(type(list3))\n",
        "print(type(list4))\n",
        "print(\"\\nList items:\")\n",
        "print(list[0])\n",
        "print(list[1])\n",
        "print(list[2])"
      ]
    },
    {
      "cell_type": "code",
      "source": [
        "import numpy as np\n",
        "list={1,5,2,6,7}\n",
        "list1=[3,6,1,8]\n",
        "print(list)\n",
        "print(list1)\n",
        "print(type(list))\n",
        "print(type(list1))"
      ],
      "metadata": {
        "colab": {
          "base_uri": "https://localhost:8080/"
        },
        "id": "JQsp_V-VQkBS",
        "outputId": "f3c8b7dc-2403-428b-96bc-b7d8e0aa5061"
      },
      "execution_count": 2,
      "outputs": [
        {
          "output_type": "stream",
          "name": "stdout",
          "text": [
            "{1, 2, 5, 6, 7}\n",
            "[3, 6, 1, 8]\n",
            "<class 'set'>\n",
            "<class 'list'>\n"
          ]
        }
      ]
    },
    {
      "cell_type": "code",
      "source": [
        "List={1:\"thota shiva lingeshwar\",2:\"sps\",3:\"1038\",4:\"2005\"}\n",
        "print(\"\\nlist with the use of Mixed values; \")\n",
        "print(List)\n",
        "print(type(List))\n",
        ""
      ],
      "metadata": {
        "colab": {
          "base_uri": "https://localhost:8080/"
        },
        "id": "4foS6QqqQwE4",
        "outputId": "325577fc-4afc-4cdb-97c9-8d3979112440"
      },
      "execution_count": 4,
      "outputs": [
        {
          "output_type": "stream",
          "name": "stdout",
          "text": [
            "\n",
            "list with the use of Mixed values; \n",
            "{1: 'thota shiva lingeshwar', 2: 'sps', 3: '1038', 4: '2005'}\n",
            "<class 'dict'>\n"
          ]
        }
      ]
    }
  ]
}